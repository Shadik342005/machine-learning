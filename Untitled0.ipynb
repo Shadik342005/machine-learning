{
  "nbformat": 4,
  "nbformat_minor": 0,
  "metadata": {
    "colab": {
      "provenance": []
    },
    "kernelspec": {
      "name": "python3",
      "display_name": "Python 3"
    },
    "language_info": {
      "name": "python"
    }
  },
  "cells": [
    {
      "cell_type": "code",
      "execution_count": 1,
      "metadata": {
        "colab": {
          "base_uri": "https://localhost:8080/"
        },
        "id": "m0p2m4ziS66P",
        "outputId": "5b32e49a-ecf0-4484-f73b-ca37fd400adc"
      },
      "outputs": [
        {
          "output_type": "stream",
          "name": "stdout",
          "text": [
            "x\n"
          ]
        }
      ],
      "source": [
        "x=10\n",
        "print(\"x\")"
      ]
    },
    {
      "cell_type": "code",
      "source": [
        "x=88\n",
        "y=\"sadik\"\n",
        "print(x)\n",
        "print(y)"
      ],
      "metadata": {
        "colab": {
          "base_uri": "https://localhost:8080/"
        },
        "id": "FfN7iackTHQS",
        "outputId": "ba13dd12-0d5d-4d5a-f5a0-8382de789a6e"
      },
      "execution_count": 3,
      "outputs": [
        {
          "output_type": "stream",
          "name": "stdout",
          "text": [
            "88\n",
            "sadik\n"
          ]
        }
      ]
    },
    {
      "cell_type": "code",
      "source": [
        "x=str(6)\n",
        "y=int(6)\n",
        "z=float(6)\n",
        "print(x)\n",
        "print(y)\n",
        "print(z)"
      ],
      "metadata": {
        "colab": {
          "base_uri": "https://localhost:8080/"
        },
        "id": "860LmQSxTkME",
        "outputId": "55cdfe21-ae04-4524-96e8-43e80b324eeb"
      },
      "execution_count": 5,
      "outputs": [
        {
          "output_type": "stream",
          "name": "stdout",
          "text": [
            "6\n",
            "6\n",
            "6.0\n"
          ]
        }
      ]
    },
    {
      "cell_type": "code",
      "source": [
        "x=50.0\n",
        "Y=\"bharu\"\n",
        "print(type(x))\n",
        "print(type(y))"
      ],
      "metadata": {
        "colab": {
          "base_uri": "https://localhost:8080/"
        },
        "id": "7lvQ0wsWUMW8",
        "outputId": "fbe1486c-8885-4628-a765-9ee2eb8152f3"
      },
      "execution_count": 6,
      "outputs": [
        {
          "output_type": "stream",
          "name": "stdout",
          "text": [
            "<class 'float'>\n",
            "<class 'int'>\n"
          ]
        }
      ]
    },
    {
      "cell_type": "code",
      "source": [
        "a=\"top tech developers\"\n",
        "print(a)\n"
      ],
      "metadata": {
        "colab": {
          "base_uri": "https://localhost:8080/"
        },
        "id": "faDevHLSVLA3",
        "outputId": "10af1f42-044e-47c9-adbd-abf8659c29e0"
      },
      "execution_count": 7,
      "outputs": [
        {
          "output_type": "stream",
          "name": "stdout",
          "text": [
            "top tech developers\n"
          ]
        }
      ]
    },
    {
      "cell_type": "code",
      "source": [
        "a=\"tech developerts\"\n",
        "print(a[2])"
      ],
      "metadata": {
        "colab": {
          "base_uri": "https://localhost:8080/"
        },
        "id": "kGtabTjDVncP",
        "outputId": "6ae61805-0b5b-44e8-c0b9-2e0e1a38dd9c"
      },
      "execution_count": 9,
      "outputs": [
        {
          "output_type": "stream",
          "name": "stdout",
          "text": [
            "c\n"
          ]
        }
      ]
    },
    {
      "cell_type": "code",
      "source": [
        "for x in \"top\":\n",
        "  print(x)"
      ],
      "metadata": {
        "colab": {
          "base_uri": "https://localhost:8080/"
        },
        "id": "rSdGeqJvWEe1",
        "outputId": "aa7e8189-fb19-43f1-da5f-70c3f896ed3c"
      },
      "execution_count": 26,
      "outputs": [
        {
          "output_type": "stream",
          "name": "stdout",
          "text": [
            "t\n",
            "o\n",
            "p\n"
          ]
        }
      ]
    },
    {
      "cell_type": "code",
      "source": [
        "a=\"shadik basha\"\n",
        "print(len(a))"
      ],
      "metadata": {
        "colab": {
          "base_uri": "https://localhost:8080/"
        },
        "id": "OghRLUI_YlKx",
        "outputId": "91b41cdb-eb93-4792-a4f3-ea142bc44fc6"
      },
      "execution_count": 28,
      "outputs": [
        {
          "output_type": "stream",
          "name": "stdout",
          "text": [
            "12\n"
          ]
        }
      ]
    },
    {
      "cell_type": "code",
      "source": [
        "a=\"bharu\"\n",
        "print(len(a))"
      ],
      "metadata": {
        "colab": {
          "base_uri": "https://localhost:8080/"
        },
        "id": "AYZS4h1lZHW0",
        "outputId": "be19e368-4c4e-4756-cda6-88764d018043"
      },
      "execution_count": 29,
      "outputs": [
        {
          "output_type": "stream",
          "name": "stdout",
          "text": [
            "5\n"
          ]
        }
      ]
    },
    {
      "cell_type": "code",
      "source": [
        "txt=\"The best things in life are free!\"\n",
        "if\"free\"in txt:\n",
        "  print(\"Yes,'free'is present\")"
      ],
      "metadata": {
        "colab": {
          "base_uri": "https://localhost:8080/"
        },
        "id": "xToiRtx3ZTNj",
        "outputId": "7b9d23e3-eb67-4ec4-f5a5-4f6a86fedc8b"
      },
      "execution_count": 30,
      "outputs": [
        {
          "output_type": "stream",
          "name": "stdout",
          "text": [
            "Yes,'free'is present\n"
          ]
        }
      ]
    },
    {
      "cell_type": "code",
      "source": [
        "b=\"techdesigner\"\n",
        "print(b[3:6])"
      ],
      "metadata": {
        "colab": {
          "base_uri": "https://localhost:8080/"
        },
        "id": "5BD_GkLvaAHT",
        "outputId": "1069337c-8f0c-4f86-f148-ef62bf642bee"
      },
      "execution_count": 31,
      "outputs": [
        {
          "output_type": "stream",
          "name": "stdout",
          "text": [
            "hde\n"
          ]
        }
      ]
    },
    {
      "cell_type": "code",
      "source": [
        "a=\"machine learning\"\n",
        "print(a[6:13])"
      ],
      "metadata": {
        "colab": {
          "base_uri": "https://localhost:8080/"
        },
        "id": "uft9yVr4aWWJ",
        "outputId": "bcc303fc-aa8a-49fe-cea2-4e0549cbc837"
      },
      "execution_count": 32,
      "outputs": [
        {
          "output_type": "stream",
          "name": "stdout",
          "text": [
            "e learn\n"
          ]
        }
      ]
    },
    {
      "cell_type": "code",
      "source": [
        "a=\"top\"\n",
        "b=\"tech developers\"\n",
        "c=a+b\n",
        "print(c)"
      ],
      "metadata": {
        "colab": {
          "base_uri": "https://localhost:8080/"
        },
        "id": "vYzBKMnDaqTY",
        "outputId": "db63f07a-7bfe-456c-e17b-e600a3c3c9a2"
      },
      "execution_count": 33,
      "outputs": [
        {
          "output_type": "stream",
          "name": "stdout",
          "text": [
            "toptech developers\n"
          ]
        }
      ]
    },
    {
      "cell_type": "code",
      "source": [
        "mylist=(\"machinelearning\",\"deeplearning\",\"cloudcomputing\")\n",
        "print(mylist)"
      ],
      "metadata": {
        "colab": {
          "base_uri": "https://localhost:8080/"
        },
        "id": "UOwv_V6NbDQu",
        "outputId": "015cc018-826c-4f4d-bada-425e53e56c85"
      },
      "execution_count": 35,
      "outputs": [
        {
          "output_type": "stream",
          "name": "stdout",
          "text": [
            "('machinelearning', 'deeplearning', 'cloudcomputing')\n"
          ]
        }
      ]
    },
    {
      "cell_type": "code",
      "source": [
        "list=(\"developers\",\"programmer\")\n",
        "print(list)"
      ],
      "metadata": {
        "colab": {
          "base_uri": "https://localhost:8080/"
        },
        "id": "98IHIoa-bmyz",
        "outputId": "b2fd5ea0-6a02-4694-c0a2-8f1bd3c86d96"
      },
      "execution_count": 36,
      "outputs": [
        {
          "output_type": "stream",
          "name": "stdout",
          "text": [
            "('developers', 'programmer')\n"
          ]
        }
      ]
    },
    {
      "cell_type": "code",
      "source": [
        "list1=(\"choco\",\"mango\",\"strawberry\")\n",
        "list2=(\"2,4,6,8,10\")\n",
        "list3=(\"true\",\"true\",\"true\")\n",
        "print(list1)\n",
        "print(list2)\n",
        "print(list3)"
      ],
      "metadata": {
        "colab": {
          "base_uri": "https://localhost:8080/"
        },
        "id": "D8J1rWAqb56p",
        "outputId": "85d0aed8-2562-441f-d9b2-83a71f08b9a8"
      },
      "execution_count": 45,
      "outputs": [
        {
          "output_type": "stream",
          "name": "stdout",
          "text": [
            "('choco', 'mango', 'strawberry')\n",
            "2,4,6,8,10\n",
            "('true', 'true', 'true')\n"
          ]
        }
      ]
    },
    {
      "cell_type": "markdown",
      "source": [],
      "metadata": {
        "id": "Mjqq5vf_db9z"
      }
    },
    {
      "cell_type": "code",
      "source": [
        "thislist=((\"graphes\",\"banana\",\"cherry\",\"strwberry\",\"kiwi\",\"melon\",\"mango\"))\n",
        "print(thislist[1])\n",
        "print(thislist[-1])\n",
        "print(thislist[2:5])\n",
        "print(thislist[:4])\n",
        "print(thislist[-4:-1])"
      ],
      "metadata": {
        "colab": {
          "base_uri": "https://localhost:8080/"
        },
        "id": "BPW30ZDBeF3u",
        "outputId": "5ab606c1-c8de-4119-f67b-d39d52dd756b"
      },
      "execution_count": 48,
      "outputs": [
        {
          "output_type": "stream",
          "name": "stdout",
          "text": [
            "banana\n",
            "mango\n",
            "('cherry', 'strwberry', 'kiwi')\n",
            "('graphes', 'banana', 'cherry', 'strwberry')\n",
            "('strwberry', 'kiwi', 'melon')\n"
          ]
        }
      ]
    },
    {
      "cell_type": "code",
      "source": [
        "a=\"if\"\n",
        "\n",
        "if(\"username\"):\n",
        " print(a)"
      ],
      "metadata": {
        "colab": {
          "base_uri": "https://localhost:8080/"
        },
        "id": "hCm7ep1lfj9u",
        "outputId": "781fba50-4207-4ac9-e09f-4c4c4a15173b"
      },
      "execution_count": 76,
      "outputs": [
        {
          "output_type": "stream",
          "name": "stdout",
          "text": [
            "if\n"
          ]
        }
      ]
    }
  ]
}